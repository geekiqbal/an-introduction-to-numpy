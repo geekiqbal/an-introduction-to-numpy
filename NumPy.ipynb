{
  "nbformat": 4,
  "nbformat_minor": 0,
  "metadata": {
    "kernelspec": {
      "display_name": "Python 3",
      "language": "python",
      "name": "python3"
    },
    "language_info": {
      "codemirror_mode": {
        "name": "ipython",
        "version": 3
      },
      "file_extension": ".py",
      "mimetype": "text/x-python",
      "name": "python",
      "nbconvert_exporter": "python",
      "pygments_lexer": "ipython3",
      "version": "3.6.8"
    },
    "colab": {
      "name": "NumPy.ipynb",
      "version": "0.3.2",
      "provenance": []
    }
  },
  "cells": [
    {
      "cell_type": "markdown",
      "metadata": {
        "id": "ID0CWUaMbz5D",
        "colab_type": "text"
      },
      "source": [
        "# Introducing NumPy\n"
      ]
    },
    {
      "cell_type": "markdown",
      "metadata": {
        "id": "p0sGrGQIbz5F",
        "colab_type": "text"
      },
      "source": [
        "Python is convenient, but it can also be slow. However, it does allow us to access libraries that execute faster code written in languages like C. NumPy is one such library: it provides **fast alternatives to math operations in Python** and is designed to work efficiently with groups of numbers - like matrices.\n",
        "NumPy is a large library and we are only going to scratch the surface of it here."
      ]
    },
    {
      "cell_type": "markdown",
      "metadata": {
        "id": "D6bWujOVbz5F",
        "colab_type": "text"
      },
      "source": [
        "This hands on tutorial includes the following: <br>\n",
        "- #### Data Types and Shapes\n",
        "    -  Scalar <br>\n",
        "    -  Vectors <br>\n",
        "    -  Matrices <br>\n",
        "    - Tensors <br>\n",
        "    - Changing shapes* <br>\n",
        "    - Commonly used initializations <br>\n",
        "- #### Element wise operation\n",
        "    -  The Python way <br>\n",
        "    -  The NumPy way <br>\n",
        "    -  Element-wise Matrix Operations <br>\n",
        "- #### NumPy Matrix Multiplication\n",
        "    -  Element-wise Multiplication <br>\n",
        "    -  Matrix Product <br>\n",
        "    -  NumPys ```dot``` function <br>\n",
        "    -  Transpose <br>\n",
        "    -  A real use case <br>\n",
        "- #### Sorting, Subsetting, Slicing, Splitting and Indexing"
      ]
    },
    {
      "cell_type": "markdown",
      "metadata": {
        "id": "mhqgFbh0bz5G",
        "colab_type": "text"
      },
      "source": [
        "### Importing NumPy"
      ]
    },
    {
      "cell_type": "markdown",
      "metadata": {
        "id": "cPV40n7Abz5H",
        "colab_type": "text"
      },
      "source": [
        "When importing the NumPy library, the convention we'll see used most often – including here – is to name it ```np```, like so:"
      ]
    },
    {
      "cell_type": "code",
      "metadata": {
        "id": "AMUdmGAGbz5H",
        "colab_type": "code",
        "colab": {}
      },
      "source": [
        "import numpy as np"
      ],
      "execution_count": 0,
      "outputs": []
    },
    {
      "cell_type": "markdown",
      "metadata": {
        "id": "Z5uTTchWbz5K",
        "colab_type": "text"
      },
      "source": [
        "Now we can use the library by prefixing the names of functions and types with ```np.```, which we'll see in the following examples."
      ]
    },
    {
      "cell_type": "markdown",
      "metadata": {
        "id": "ix7LSHIJbz5L",
        "colab_type": "text"
      },
      "source": [
        "### Data Types and Shapes"
      ]
    },
    {
      "cell_type": "markdown",
      "metadata": {
        "id": "8vSPR3txbz5M",
        "colab_type": "text"
      },
      "source": [
        "The most common way to work with numbers in NumPy is through ```ndarray``` objects. They are similar to Python lists, but can have any number of dimensions. Also, ```ndarray``` supports fast math operations, which is just what we want. <br>\n",
        "Since it can store any number of dimensions, we can use ```ndarray```'s to represent any of the data types: **scalars**, **vectors**, **matrices**, or **tensors**."
      ]
    },
    {
      "cell_type": "markdown",
      "metadata": {
        "id": "VaEj6RaLbz5M",
        "colab_type": "text"
      },
      "source": [
        "### Scalars"
      ]
    },
    {
      "cell_type": "markdown",
      "metadata": {
        "id": "FBPXqQKHbz5N",
        "colab_type": "text"
      },
      "source": [
        "Scalars in NumPy are a bit more involved than in Python. Instead of Python’s basic types like ```int```, ```float```, etc., NumPy lets we specify signed and unsigned types, as well as different sizes. So instead of Python’s ```int```, we have access to types like ```uint8```, ```int8```, ```uint16```, ```int16```, and so on. <br>\n",
        "These types are important because every object we make (vectors, matrices, tensors) eventually stores scalars. And when we create a NumPy array, we can specify the type - but **every item in the array must have the same type**. In this regard, NumPy arrays are more like C arrays than Python **lists**."
      ]
    },
    {
      "cell_type": "markdown",
      "metadata": {
        "id": "puKmYLkJbz5O",
        "colab_type": "text"
      },
      "source": [
        "If we want to create a NumPy array that holds a scalar, we can do so by passing the value to NumPy's array function, like so:"
      ]
    },
    {
      "cell_type": "code",
      "metadata": {
        "scrolled": true,
        "id": "XQw9ZZIIbz5O",
        "colab_type": "code",
        "colab": {}
      },
      "source": [
        "s = np.array(5)\n",
        "print (s)"
      ],
      "execution_count": 0,
      "outputs": []
    },
    {
      "cell_type": "markdown",
      "metadata": {
        "id": "hpza8bmqbz5R",
        "colab_type": "text"
      },
      "source": [
        "We can see the shape of our arrays by checking their ```shape``` attribute. So if we executed this code:"
      ]
    },
    {
      "cell_type": "code",
      "metadata": {
        "id": "-g6Kgj-Gbz5S",
        "colab_type": "code",
        "colab": {}
      },
      "source": [
        "print(s.shape)"
      ],
      "execution_count": 0,
      "outputs": []
    },
    {
      "cell_type": "markdown",
      "metadata": {
        "id": "NeeM-wFybz5W",
        "colab_type": "text"
      },
      "source": [
        "Here, this empty pair of parenthesis, ```()``` indicates that it has zero dimensions."
      ]
    },
    {
      "cell_type": "markdown",
      "metadata": {
        "id": "SryoTt9Zbz5X",
        "colab_type": "text"
      },
      "source": [
        "Even though scalars are inside arrays, we still use them like a normal scalar. So we could type:"
      ]
    },
    {
      "cell_type": "code",
      "metadata": {
        "id": "gvkICrrgbz5X",
        "colab_type": "code",
        "colab": {}
      },
      "source": [
        "x = s + 3\n",
        "print(x)"
      ],
      "execution_count": 0,
      "outputs": []
    },
    {
      "cell_type": "markdown",
      "metadata": {
        "id": "Ni5KVzWkbz5Z",
        "colab_type": "text"
      },
      "source": [
        "If we were to check the type of x, we'd find it is probably ```numpy.int64```, because its working with NumPy types, not Python types."
      ]
    },
    {
      "cell_type": "code",
      "metadata": {
        "id": "aLSxwHhJbz5a",
        "colab_type": "code",
        "colab": {}
      },
      "source": [
        "print(type(x))"
      ],
      "execution_count": 0,
      "outputs": []
    },
    {
      "cell_type": "markdown",
      "metadata": {
        "id": "1N7ZdbIobz5d",
        "colab_type": "text"
      },
      "source": [
        "Even scalar types support most of the array functions. so we can call ```x.shape``` and it would return ```()``` because it has zero dimensions, even though it is not an array. If we tried that with a normal Python scalar, we'd get an error."
      ]
    },
    {
      "cell_type": "code",
      "metadata": {
        "id": "gHvTGqakbz5d",
        "colab_type": "code",
        "colab": {}
      },
      "source": [
        "print(x.shape)\n",
        "x = 8\n",
        "print(x.shape)"
      ],
      "execution_count": 0,
      "outputs": []
    },
    {
      "cell_type": "markdown",
      "metadata": {
        "id": "oxqA1qshbz5g",
        "colab_type": "text"
      },
      "source": [
        "### Vectors"
      ]
    },
    {
      "cell_type": "markdown",
      "metadata": {
        "id": "CS_UQpZcbz5h",
        "colab_type": "text"
      },
      "source": [
        "To create a vector, we'd pass a Python list to the array function, like this:"
      ]
    },
    {
      "cell_type": "code",
      "metadata": {
        "id": "mHzMWtptbz5i",
        "colab_type": "code",
        "colab": {}
      },
      "source": [
        "v = np.array([1,2,3])\n",
        "print (v)"
      ],
      "execution_count": 0,
      "outputs": []
    },
    {
      "cell_type": "markdown",
      "metadata": {
        "id": "N2KymqaFbz5k",
        "colab_type": "text"
      },
      "source": [
        "If we check a vector's shape attribute, it will return a single number representing the vector's one-dimensional length."
      ]
    },
    {
      "cell_type": "code",
      "metadata": {
        "id": "lG0zvfCYbz5k",
        "colab_type": "code",
        "colab": {}
      },
      "source": [
        "print(v.shape)"
      ],
      "execution_count": 0,
      "outputs": []
    },
    {
      "cell_type": "markdown",
      "metadata": {
        "id": "UbU13P4wbz5m",
        "colab_type": "text"
      },
      "source": [
        "Now that there is a number, we can see that the shape is a tuple with the sizes of each of the ```ndarray```'s dimensions. For scalars it was just an empty tuple, but vectors have one dimension, so the tuple includes a number and a comma. <br>\n",
        "Python doesn’t understand ```(3)``` as a tuple with one item, so it requires the comma."
      ]
    },
    {
      "cell_type": "markdown",
      "metadata": {
        "id": "6Gy9MUBxbz5n",
        "colab_type": "text"
      },
      "source": [
        "We can access an element within the vector using indices, like this:"
      ]
    },
    {
      "cell_type": "code",
      "metadata": {
        "id": "FpBbpJgVbz5n",
        "colab_type": "code",
        "colab": {}
      },
      "source": [
        "x = v[1]\n",
        "print(x)"
      ],
      "execution_count": 0,
      "outputs": []
    },
    {
      "cell_type": "markdown",
      "metadata": {
        "id": "GVUlx0IKbz5p",
        "colab_type": "text"
      },
      "source": [
        "NumPy also supports advanced indexing techniques. For example, to access the items from the second element onward, we would say:"
      ]
    },
    {
      "cell_type": "code",
      "metadata": {
        "scrolled": true,
        "id": "0HvFSge2bz5q",
        "colab_type": "code",
        "colab": {}
      },
      "source": [
        "print(v[1:])"
      ],
      "execution_count": 0,
      "outputs": []
    },
    {
      "cell_type": "markdown",
      "metadata": {
        "id": "ti0wE0Blbz5s",
        "colab_type": "text"
      },
      "source": [
        "### Matrices"
      ]
    },
    {
      "cell_type": "markdown",
      "metadata": {
        "id": "1QtTaJzfbz5s",
        "colab_type": "text"
      },
      "source": [
        "We can create matrices using NumPy's array function, similar to that of vectors. However, instead of just passing in a list, we need to supply a list of lists, where each list represents a row. So to create a 3x3 matrix containing the numbers one through nine, we could do this:\n"
      ]
    },
    {
      "cell_type": "code",
      "metadata": {
        "id": "VbQ2hsZxbz5t",
        "colab_type": "code",
        "colab": {}
      },
      "source": [
        "m = np.array([[1,2,3], [4,5,6], [7,8,9]])\n",
        "print(\"m = \\n\",m, )\n",
        "print(\"m.shape: \",m.shape)"
      ],
      "execution_count": 0,
      "outputs": []
    },
    {
      "cell_type": "markdown",
      "metadata": {
        "id": "mVdioihCbz5w",
        "colab_type": "text"
      },
      "source": [
        "```m``` is thus a ```(3, 3)``` tuple. This indicates that it has two dimensions, each of size 3.\n",
        "We can access elements of matrices just like vectors, but using additional index values. So to find the number 6 in the above matrix, we'd access"
      ]
    },
    {
      "cell_type": "code",
      "metadata": {
        "id": "0RUCJW6Pbz5w",
        "colab_type": "code",
        "colab": {}
      },
      "source": [
        "print(m[1][2])"
      ],
      "execution_count": 0,
      "outputs": []
    },
    {
      "cell_type": "markdown",
      "metadata": {
        "id": "ddzviZNHbz5y",
        "colab_type": "text"
      },
      "source": [
        "Doing the same with a list will give an error:"
      ]
    },
    {
      "cell_type": "code",
      "metadata": {
        "id": "gW6NqYbkbz5z",
        "colab_type": "code",
        "colab": {}
      },
      "source": [
        "m = [[1,2,3], [4,5,6], [7,8,9]]\n",
        "print(\"m = \\n\",m)\n",
        "print(\"m.shape: \",m.shape)"
      ],
      "execution_count": 0,
      "outputs": []
    },
    {
      "cell_type": "markdown",
      "metadata": {
        "id": "KvNyvCDNbz52",
        "colab_type": "text"
      },
      "source": [
        "But, each element can be selected via the same method:"
      ]
    },
    {
      "cell_type": "code",
      "metadata": {
        "id": "qytkzhJSbz54",
        "colab_type": "code",
        "colab": {}
      },
      "source": [
        "print(m[1][2])"
      ],
      "execution_count": 0,
      "outputs": []
    },
    {
      "cell_type": "markdown",
      "metadata": {
        "id": "Ef38Ahlubz57",
        "colab_type": "text"
      },
      "source": [
        "### Tensors"
      ]
    },
    {
      "cell_type": "markdown",
      "metadata": {
        "id": "isJJ8GKbbz57",
        "colab_type": "text"
      },
      "source": [
        "Tensors are just like vectors and matrices, **but they can have more dimensions**. For example, to create a 3x3x2x1 tensor, we could do the following:"
      ]
    },
    {
      "cell_type": "code",
      "metadata": {
        "id": "iAxxqGugbz58",
        "colab_type": "code",
        "colab": {}
      },
      "source": [
        "t = np.array([[[[1],[2]],[[3],[4]],[[5],[6]]],\\\n",
        "              [[[7],[8]],[[9],[10]],[[11],[12]]],\\\n",
        "              [[[13],[14]],[[15],[16]],[[17],[18]]]])"
      ],
      "execution_count": 0,
      "outputs": []
    },
    {
      "cell_type": "markdown",
      "metadata": {
        "id": "9KK5w8M_bz5-",
        "colab_type": "text"
      },
      "source": [
        "And ```t.shape``` would return "
      ]
    },
    {
      "cell_type": "code",
      "metadata": {
        "id": "XxmsoCg0bz5-",
        "colab_type": "code",
        "colab": {}
      },
      "source": [
        "print(t.shape)"
      ],
      "execution_count": 0,
      "outputs": []
    },
    {
      "cell_type": "markdown",
      "metadata": {
        "id": "kPPKFwW7bz6A",
        "colab_type": "text"
      },
      "source": [
        "We can access items just like with matrices, but with more indices. So ```t[2][1][1][0]``` will return"
      ]
    },
    {
      "cell_type": "code",
      "metadata": {
        "id": "QJUxkYEKbz6B",
        "colab_type": "code",
        "colab": {}
      },
      "source": [
        "print(t[2][1][1][0])"
      ],
      "execution_count": 0,
      "outputs": []
    },
    {
      "cell_type": "markdown",
      "metadata": {
        "id": "Wlz7d_Thbz6D",
        "colab_type": "text"
      },
      "source": [
        "There is also a function called ```size``` which returns the total number of elements in an array. So for ```t```"
      ]
    },
    {
      "cell_type": "code",
      "metadata": {
        "id": "geoSUtCTbz6E",
        "colab_type": "code",
        "colab": {}
      },
      "source": [
        "print(t.size)"
      ],
      "execution_count": 0,
      "outputs": []
    },
    {
      "cell_type": "markdown",
      "metadata": {
        "id": "l78fTl5Cbz6F",
        "colab_type": "text"
      },
      "source": [
        "And we can clearly see from the figure above that the total number of elements in ```t``` are, as a matter of fact, 18."
      ]
    },
    {
      "cell_type": "markdown",
      "metadata": {
        "id": "waV5mWBtbz6G",
        "colab_type": "text"
      },
      "source": [
        "### Changing Shapes <br>\n",
        "Sometimes we'll need to change the shape of our data without actually changing its contents. For example, we may have a vector, which is one-dimensional, but need a matrix, which is two-dimensional. There are two ways we can do that."
      ]
    },
    {
      "cell_type": "markdown",
      "metadata": {
        "id": "-iIWw-3cbz6H",
        "colab_type": "text"
      },
      "source": [
        "Let's say we have the following vector:"
      ]
    },
    {
      "cell_type": "code",
      "metadata": {
        "id": "F9NxrKyybz6H",
        "colab_type": "code",
        "colab": {}
      },
      "source": [
        "v = np.array([1,2,3,4])"
      ],
      "execution_count": 0,
      "outputs": []
    },
    {
      "cell_type": "markdown",
      "metadata": {
        "id": "OIcwOjhEbz6K",
        "colab_type": "text"
      },
      "source": [
        "Calling v.shape would return "
      ]
    },
    {
      "cell_type": "code",
      "metadata": {
        "id": "GugATEg3bz6L",
        "colab_type": "code",
        "colab": {}
      },
      "source": [
        "print(v.shape)"
      ],
      "execution_count": 0,
      "outputs": []
    },
    {
      "cell_type": "markdown",
      "metadata": {
        "id": "kqDE6D6Wbz6N",
        "colab_type": "text"
      },
      "source": [
        "But what if we want a 1x4 matrix? We can accomplish that with the reshape function, like so:"
      ]
    },
    {
      "cell_type": "code",
      "metadata": {
        "id": "O19fGU7cbz6N",
        "colab_type": "code",
        "colab": {}
      },
      "source": [
        "x = v.reshape(1,4)"
      ],
      "execution_count": 0,
      "outputs": []
    },
    {
      "cell_type": "markdown",
      "metadata": {
        "id": "Wb9IZFtdbz6P",
        "colab_type": "text"
      },
      "source": [
        "Calling x.shape would return "
      ]
    },
    {
      "cell_type": "code",
      "metadata": {
        "scrolled": true,
        "id": "dMAB4l9xbz6Q",
        "colab_type": "code",
        "colab": {}
      },
      "source": [
        "print(x.shape)"
      ],
      "execution_count": 0,
      "outputs": []
    },
    {
      "cell_type": "code",
      "metadata": {
        "id": "lJmxSIEBbz6R",
        "colab_type": "code",
        "colab": {}
      },
      "source": [
        "print(x)"
      ],
      "execution_count": 0,
      "outputs": []
    },
    {
      "cell_type": "markdown",
      "metadata": {
        "id": "Kirnq-ASbz6T",
        "colab_type": "text"
      },
      "source": [
        "Now, If we wanted a 4x1 matrix, we could do this:"
      ]
    },
    {
      "cell_type": "code",
      "metadata": {
        "id": "LXg-rroTbz6U",
        "colab_type": "code",
        "colab": {}
      },
      "source": [
        "x = v.reshape(4,1)\n",
        "print(x.shape)\n",
        "print(x)"
      ],
      "execution_count": 0,
      "outputs": []
    },
    {
      "cell_type": "markdown",
      "metadata": {
        "id": "yBlhqxvvbz6W",
        "colab_type": "text"
      },
      "source": [
        "For a 2x2 matrix:"
      ]
    },
    {
      "cell_type": "code",
      "metadata": {
        "id": "iKgx1stgbz6X",
        "colab_type": "code",
        "colab": {}
      },
      "source": [
        "x = v.reshape(2,2)\n",
        "print(x.shape)\n",
        "print(x)"
      ],
      "execution_count": 0,
      "outputs": []
    },
    {
      "cell_type": "markdown",
      "metadata": {
        "id": "SvR7_4mNbz6Z",
        "colab_type": "text"
      },
      "source": [
        "One more thing about reshaping NumPy arrays: if we see code from experienced NumPy users, we will often see them use a special slicing syntax instead of calling reshape. Using this syntax, the previous two examples would look like this:"
      ]
    },
    {
      "cell_type": "code",
      "metadata": {
        "id": "i6X2i2lUbz6Z",
        "colab_type": "code",
        "colab": {}
      },
      "source": [
        "x = v[None, :]\n",
        "print(x.shape)"
      ],
      "execution_count": 0,
      "outputs": []
    },
    {
      "cell_type": "markdown",
      "metadata": {
        "id": "NEglOQCubz6b",
        "colab_type": "text"
      },
      "source": [
        "     or"
      ]
    },
    {
      "cell_type": "code",
      "metadata": {
        "id": "jjGUgd5zbz6d",
        "colab_type": "code",
        "colab": {}
      },
      "source": [
        "x = v[:, None]\n",
        "print(x.shape)"
      ],
      "execution_count": 0,
      "outputs": []
    },
    {
      "cell_type": "markdown",
      "metadata": {
        "id": "p2e2dalKbz6e",
        "colab_type": "text"
      },
      "source": [
        "These lines create a slice that looks at all of the items of v but asks NumPy to add a new dimension of size 1 for the associated axis. It may look strange to us now, but it's a common technique so it's good to be aware of it."
      ]
    },
    {
      "cell_type": "markdown",
      "metadata": {
        "id": "RxBDguS3bz6f",
        "colab_type": "text"
      },
      "source": [
        "Now, let's suppose we have a matrix ```A```"
      ]
    },
    {
      "cell_type": "code",
      "metadata": {
        "id": "ARdy55t8bz6h",
        "colab_type": "code",
        "colab": {}
      },
      "source": [
        "A = np.array([[1,2,3,4],[5,6,7,8],[9,10,11,12]])\n",
        "print(A)"
      ],
      "execution_count": 0,
      "outputs": []
    },
    {
      "cell_type": "markdown",
      "metadata": {
        "id": "45Cwdwrvbz6j",
        "colab_type": "text"
      },
      "source": [
        "and we need to reshape it to a 2x6 matrix. We could do this:"
      ]
    },
    {
      "cell_type": "code",
      "metadata": {
        "id": "fuJ-WIr2bz6k",
        "colab_type": "code",
        "colab": {}
      },
      "source": [
        "x = A.reshape(2,6)\n",
        "print(x)"
      ],
      "execution_count": 0,
      "outputs": []
    },
    {
      "cell_type": "markdown",
      "metadata": {
        "id": "6Qo83GL8bz6o",
        "colab_type": "text"
      },
      "source": [
        "And if we want to take the tensor ```t``` and reshape it to a 6x3 matrix, we can also do that"
      ]
    },
    {
      "cell_type": "code",
      "metadata": {
        "id": "AWII2-Jxbz6o",
        "colab_type": "code",
        "colab": {}
      },
      "source": [
        "t = np.array([[[[1],[2]],[[3],[4]],[[5],[6]]],[[[7],[8]],\\\n",
        "    [[9],[10]],[[11],[12]]],[[[13],[14]],[[15],[16]],[[17],[18]]]])\n",
        "print(\"t.shape is \",t.shape,\"\\n\")\n",
        "x = t.reshape(6,3)\n",
        "print(\"x = \\n\",x)\n",
        "print(\"x.shape is \",x.shape,\"\\n\")"
      ],
      "execution_count": 0,
      "outputs": []
    },
    {
      "cell_type": "markdown",
      "metadata": {
        "id": "AO5xEC9ybz6q",
        "colab_type": "text"
      },
      "source": [
        "The thing to note here is that ```ndarray```'s can be shaped to any shape as long as the total number of tensor elements remain the same. For example"
      ]
    },
    {
      "cell_type": "code",
      "metadata": {
        "id": "C6HAKOR0bz6q",
        "colab_type": "code",
        "colab": {}
      },
      "source": [
        "m = np.array([[1,2,3], [4,5,6], [7,8,9]])\n",
        "print(m, \"\\n\")\n",
        "x = m.reshape(2,4)"
      ],
      "execution_count": 0,
      "outputs": []
    },
    {
      "cell_type": "markdown",
      "metadata": {
        "id": "xTZl6UE8bz6s",
        "colab_type": "text"
      },
      "source": [
        "Here, the matrix ```m``` has a size ```(3,3)``` where as ```m.reshape(2,4)``` is asking it to be rearranged to a dimension ```(2,4)``` which is not possible to do."
      ]
    },
    {
      "cell_type": "markdown",
      "metadata": {
        "id": "h2b_4RcSbz6s",
        "colab_type": "text"
      },
      "source": [
        "### Commonly used initializations"
      ]
    },
    {
      "cell_type": "markdown",
      "metadata": {
        "id": "H7p0FZ16bz6t",
        "colab_type": "text"
      },
      "source": [
        "Many a times typing a ```np.array``` becomes a tedious task. To facilitate in this difficulty, NumPy provides ways to initialize bigger arrays with simple functions."
      ]
    },
    {
      "cell_type": "code",
      "metadata": {
        "id": "eVcCYTgibz6t",
        "colab_type": "code",
        "colab": {}
      },
      "source": [
        "a = np.zeros((3,4))\n",
        "print(a)"
      ],
      "execution_count": 0,
      "outputs": []
    },
    {
      "cell_type": "markdown",
      "metadata": {
        "id": "APRYh4zHbz6w",
        "colab_type": "text"
      },
      "source": [
        "Thus ```np.zeros((3,4))``` initializes a NumPy array having dimensions 3x4 and all element values equal to ```0```'s"
      ]
    },
    {
      "cell_type": "markdown",
      "metadata": {
        "id": "TxyWnPzHbz6x",
        "colab_type": "text"
      },
      "source": [
        "Similarly the ```np.ones()``` function will create a matrix of the desired dimensions with all element values equal to ```1```"
      ]
    },
    {
      "cell_type": "code",
      "metadata": {
        "id": "7l98plx9bz6y",
        "colab_type": "code",
        "colab": {}
      },
      "source": [
        "a = np.ones((3,2,2))\n",
        "print(a)"
      ],
      "execution_count": 0,
      "outputs": []
    },
    {
      "cell_type": "markdown",
      "metadata": {
        "id": "CLqlszVcbz61",
        "colab_type": "text"
      },
      "source": [
        "NumPy also provides us with the option of randomly initializing the element values in it's arrays. The ```np.random.rand()``` function creates an array of the given shape and populates it with random samples from a uniform distribution over ```[0, 1)```."
      ]
    },
    {
      "cell_type": "code",
      "metadata": {
        "id": "QaDU6KfWbz62",
        "colab_type": "code",
        "colab": {}
      },
      "source": [
        "a = np.random.rand(3,5)\n",
        "print(a)"
      ],
      "execution_count": 0,
      "outputs": []
    },
    {
      "cell_type": "markdown",
      "metadata": {
        "id": "EwrkEvWgbz63",
        "colab_type": "text"
      },
      "source": [
        "And, the ```np.random.randn()``` does the same but with samples taken from a normal distribution given by $  \\frac{1}{{\\sigma \\sqrt {2\\pi } }}e^{{(x-\\mu)}^2 / 2\\sigma^2 } $ having mean ($\\mu$) 0 and variance ($\\sigma^2$) 1."
      ]
    },
    {
      "cell_type": "code",
      "metadata": {
        "id": "UdIsxf8cbz63",
        "colab_type": "code",
        "colab": {}
      },
      "source": [
        "a = np.random.randn(2000,2000)\n",
        "a\n",
        "print(a.mean()) # For a large enough array, this value converges to 0\n",
        "print(np.std(a)**2) # For a large enough array this value converges to 1"
      ],
      "execution_count": 0,
      "outputs": []
    },
    {
      "cell_type": "markdown",
      "metadata": {
        "id": "ahWJAUmTbz65",
        "colab_type": "text"
      },
      "source": [
        "## Element-wise operations"
      ]
    },
    {
      "cell_type": "markdown",
      "metadata": {
        "id": "wyN6QNdNbz65",
        "colab_type": "text"
      },
      "source": [
        "### The Python way"
      ]
    },
    {
      "cell_type": "markdown",
      "metadata": {
        "id": "c1vc_K6Ibz66",
        "colab_type": "text"
      },
      "source": [
        "Suppose we had a list of numbers, and we wanted to add 5 to every item in the list. Without NumPy, we might do something like this:"
      ]
    },
    {
      "cell_type": "code",
      "metadata": {
        "scrolled": false,
        "id": "oUkqxjQibz66",
        "colab_type": "code",
        "colab": {}
      },
      "source": [
        "values = [1,2,3,4,5]\n",
        "for i in range(len(values)):\n",
        "    values[i] += 5\n",
        "print(values)"
      ],
      "execution_count": 0,
      "outputs": []
    },
    {
      "cell_type": "markdown",
      "metadata": {
        "id": "Ghp8zQalbz68",
        "colab_type": "text"
      },
      "source": [
        "That makes sense, but it's a lot of code to write and it runs slowly because it's pure Python. <br> <br>\n",
        "**Note:** Just in case we aren't used to using operators like +=, that just means \"*add these two items and then store the result in the left item.*\" It is a more succinct way of writing ```values[i] = values[i] + 5```."
      ]
    },
    {
      "cell_type": "markdown",
      "metadata": {
        "id": "M3NvfYLVbz68",
        "colab_type": "text"
      },
      "source": [
        "### The NumPy way"
      ]
    },
    {
      "cell_type": "markdown",
      "metadata": {
        "id": "DzXOghtMbz69",
        "colab_type": "text"
      },
      "source": [
        "In NumPy, we could do the following:"
      ]
    },
    {
      "cell_type": "code",
      "metadata": {
        "id": "qMgjIY3Wbz6-",
        "colab_type": "code",
        "colab": {}
      },
      "source": [
        "values = [1,2,3,4,5]\n",
        "values = np.array(values) +5\n",
        "print(values)"
      ],
      "execution_count": 0,
      "outputs": []
    },
    {
      "cell_type": "markdown",
      "metadata": {
        "id": "BcH4MFwwbz6_",
        "colab_type": "text"
      },
      "source": [
        "Creating that array may seem odd, but normally we'll be storing our data in ndarrays anyway. So if we already had an ```ndarray``` named variable, we would have just done:"
      ]
    },
    {
      "cell_type": "code",
      "metadata": {
        "id": "nSeW5X7xbz7A",
        "colab_type": "code",
        "colab": {}
      },
      "source": [
        "values -= 5     #back to the original values\n",
        "print(values)\n",
        "values += 5\n",
        "print(values)"
      ],
      "execution_count": 0,
      "outputs": []
    },
    {
      "cell_type": "markdown",
      "metadata": {
        "id": "V-M2ssjDbz7B",
        "colab_type": "text"
      },
      "source": [
        "We should point out, NumPy actually has functions for things like adding, multiplying, etc. But it also supports using the standard math operators. So the following two lines are equivalent:"
      ]
    },
    {
      "cell_type": "code",
      "metadata": {
        "id": "H9veyVfMbz7B",
        "colab_type": "code",
        "colab": {}
      },
      "source": [
        "x = np.multiply(values, 5)\n",
        "print(x)\n",
        "x = values * 5\n",
        "print(x)"
      ],
      "execution_count": 0,
      "outputs": []
    },
    {
      "cell_type": "markdown",
      "metadata": {
        "id": "nsvT51gtbz7E",
        "colab_type": "text"
      },
      "source": [
        "We will usually use the operators instead of the functions because they are more convenient to type and easier to read, but it's really just personal preference."
      ]
    },
    {
      "cell_type": "markdown",
      "metadata": {
        "id": "O8I6dz-sbz7F",
        "colab_type": "text"
      },
      "source": [
        "One more example of operating with scalars and ndarrays. Let's say we have a matrix m and we want to reuse it, but first we need to set all its values to zero. Easy, just multiply by zero and assign the result back to the matrix, like this:"
      ]
    },
    {
      "cell_type": "code",
      "metadata": {
        "id": "p9hPdFW6bz7F",
        "colab_type": "code",
        "colab": {}
      },
      "source": [
        "m = np.array([[1,2,3],[4,5,6],[7,8,9]])\n",
        "print(m)\n",
        "m *= 0\n",
        "print(m)"
      ],
      "execution_count": 0,
      "outputs": []
    },
    {
      "cell_type": "markdown",
      "metadata": {
        "id": "mQQkH3cfbz7I",
        "colab_type": "text"
      },
      "source": [
        "### Element-wise Matrix Operations\n",
        "The same functions and operators that work with scalars and matrices also work with other dimensions. We just need to make sure that the items we perform the operation on have compatible shapes.\n",
        "Let's say we want to get the squared values of a matrix. That's simply ```x = m * m``` (or if we want to assign the value back to m, it's just ```m *= m``` <br>\n",
        "This works because it's an element-wise multiplication between two identically-shaped matrices. (In this case, they are shaped the same because they are actually the same object.) <br> <br>\n",
        "Let's look at the following example:"
      ]
    },
    {
      "cell_type": "code",
      "metadata": {
        "id": "UWoJE4qpbz7I",
        "colab_type": "code",
        "colab": {}
      },
      "source": [
        "a = np.array([[1,3],[5,7]])\n",
        "a_list = [[1,3],[5,7]]\n",
        "print(\"a = \\n\",a,\"\\n\")\n",
        "print(\"a_list = \\n\",a_list,\"\\n\")\n",
        "\n",
        "b = np.array([[2,4],[6,8]])\n",
        "b_list = [[2,4],[6,8]]\n",
        "print(\"b = \\n\",b,\"\\n\")\n",
        "print(\"b_list = \\n\",b_list,\"\\n\")\n",
        "\n",
        "print(\"a + b = \\n\",a + b,\"\\n\")\n",
        "print(\"a_list + b_list = \\n\",a_list + b_list,\"\\n\")"
      ],
      "execution_count": 0,
      "outputs": []
    },
    {
      "cell_type": "markdown",
      "metadata": {
        "id": "xzCj7kGlbz7K",
        "colab_type": "text"
      },
      "source": [
        "We can see that simple lists yield quite a different result. <br>\n",
        "And, if we try working with incompatible shapes we'd get an error:"
      ]
    },
    {
      "cell_type": "code",
      "metadata": {
        "id": "yL7CgxAdbz7K",
        "colab_type": "code",
        "colab": {}
      },
      "source": [
        "a = np.array([[1,3],[5,7]])\n",
        "print(\"a = \\n\",a,\"\\n\") \n",
        "\n",
        "c = np.array([[2,3,6],[4,5,9],[1,8,7]])\n",
        "print(\"c = \\n\",c,\"\\n\")\n",
        "\n",
        "print(\"a.shape: \",a.shape)\n",
        "print(\"c.shape: \",c.shape,\"\\n\")\n",
        "\n",
        "print(\"a + c = \\n\",a + c)\n"
      ],
      "execution_count": 0,
      "outputs": []
    },
    {
      "cell_type": "markdown",
      "metadata": {
        "id": "E2GGk2fobz7L",
        "colab_type": "text"
      },
      "source": [
        "## NumPy Matrix Multiplication\n",
        "Now we'll talk about how to do matrix multiplication with NumPy. It's important to know that NumPy supports several types of matrix multiplication."
      ]
    },
    {
      "cell_type": "markdown",
      "metadata": {
        "id": "cWiF2P9kbz7M",
        "colab_type": "text"
      },
      "source": [
        "### Element-wise Multiplication\n",
        "We have seen some element-wise multiplication already. we can also accomplish that with the ```multiply``` function or the ```*``` operator. Just to revisit, it would look like this:\n"
      ]
    },
    {
      "cell_type": "code",
      "metadata": {
        "id": "teExuhYAbz7M",
        "colab_type": "code",
        "colab": {}
      },
      "source": [
        "m = np.array([[1,2,3],[4,5,6]])\n",
        "print(\"m = \\n\",m,\"\\n\")\n",
        "\n",
        "n = m * 0.25\n",
        "print(\"n = \\n\",n,\"\\n\")\n",
        "\n",
        "print(\"m * n = \\n\",m * n,\"\\n\")\n",
        "\n",
        "print(\"np.multiply(m, n)= \\n\",np.multiply(m, n))"
      ],
      "execution_count": 0,
      "outputs": []
    },
    {
      "cell_type": "markdown",
      "metadata": {
        "id": "sTkSiY8mbz7N",
        "colab_type": "text"
      },
      "source": [
        "### Matrix Product\n",
        "To find the matrix product, we use NumPy's ```matmul``` function. This operation is exclusive for NumPy arrays <br>\n",
        "If we have compatible shapes, then it's as simple as this:"
      ]
    },
    {
      "cell_type": "code",
      "metadata": {
        "id": "tBW_jl28bz7O",
        "colab_type": "code",
        "colab": {}
      },
      "source": [
        "a = np.array([[1,2,3,4],[5,6,7,8]])\n",
        "print(\"a = \\n\",a)\n",
        "print(\"a.shape: \",a.shape, \"\\n\")\n",
        "\n",
        "b = np.array([[1,2,3],[4,5,6],[7,8,9],[10,11,12]])\n",
        "print(\"b = \\n\",b)\n",
        "print(\"b.shape: \", b.shape, \"\\n\")\n",
        "\n",
        "c = np.matmul(a, b) # (2,4)*(4,3)\n",
        "print(\"c = \\n\",c)\n",
        "print(\"c.shape: \",c.shape,\"\\n\")"
      ],
      "execution_count": 0,
      "outputs": []
    },
    {
      "cell_type": "markdown",
      "metadata": {
        "id": "zOUMbS21bz7Q",
        "colab_type": "text"
      },
      "source": [
        "If our matrices have incompatible shapes, we'll get an error, like the following:"
      ]
    },
    {
      "cell_type": "code",
      "metadata": {
        "id": "l8SnycZQbz7R",
        "colab_type": "code",
        "colab": {}
      },
      "source": [
        "np.matmul(b, a)"
      ],
      "execution_count": 0,
      "outputs": []
    },
    {
      "cell_type": "markdown",
      "metadata": {
        "id": "hDEoI5Olbz7V",
        "colab_type": "text"
      },
      "source": [
        "This is because for matrices $a.b \\neq b.a  $ "
      ]
    },
    {
      "cell_type": "markdown",
      "metadata": {
        "id": "ukn29pg8bz7V",
        "colab_type": "text"
      },
      "source": [
        "### NumPy's ```dot``` function\n",
        "We may sometimes see NumPy's ```dot``` function in places where we would expect a ```matmul```. It turns out that the results of ```dot``` and ```matmul``` are the same if the matrices are two dimensional. <br>\n",
        "So these two results are equivalent:"
      ]
    },
    {
      "cell_type": "code",
      "metadata": {
        "id": "4acXHHCmbz7W",
        "colab_type": "code",
        "colab": {}
      },
      "source": [
        "a = np.array([[1,2],[3,4]])\n",
        "print(\"a = \\n\",a,\"\\n\")\n",
        "\n",
        "print(\"np.dot(a,a) = \\n\",np.dot(a,a),\"\\n\")\n",
        "\n",
        "print(\"a.dot(a) = \\n\",a.dot(a),\"\\n\")  # you can call `dot` directly on the `ndarray`\n",
        "\n",
        "print(\"np.matmul(a,a) = \\n\",np.matmul(a,a),\"\\n\")"
      ],
      "execution_count": 0,
      "outputs": []
    },
    {
      "cell_type": "markdown",
      "metadata": {
        "id": "yP8z2zrSbz7X",
        "colab_type": "text"
      },
      "source": [
        "While these functions return the same results for two dimensional data, we should be careful about which we choose when working with other data shapes."
      ]
    },
    {
      "cell_type": "markdown",
      "metadata": {
        "id": "LyXzdcY6bz7X",
        "colab_type": "text"
      },
      "source": [
        "### Transpose\n",
        "Getting the transpose of a matrix is really easy in NumPy. Simply access its ```T``` attribute. There is also a ```transpose()``` function which returns the same thing, but we’ll rarely see that used anywhere because typing ```T``` is much easier.\n",
        "For example:"
      ]
    },
    {
      "cell_type": "code",
      "metadata": {
        "id": "JipUFfQFbz7Y",
        "colab_type": "code",
        "colab": {}
      },
      "source": [
        "m = np.array([[1,2,3,4], [5,6,7,8], [9,10,11,12]])\n",
        "print(\"m =\\n\",m,\"\\n\")\n",
        "\n",
        "print(\"m.T = \\n\",m.T)"
      ],
      "execution_count": 0,
      "outputs": []
    },
    {
      "cell_type": "markdown",
      "metadata": {
        "id": "7hNdSS0dbz7Z",
        "colab_type": "text"
      },
      "source": [
        "NumPy does this without actually moving any data in memory - it simply changes the way it indexes the original matrix - so it’s quite efficient."
      ]
    },
    {
      "cell_type": "markdown",
      "metadata": {
        "id": "kpWYhaNfbz7Z",
        "colab_type": "text"
      },
      "source": [
        "However, that also means we need to be careful with how we modify objects, because **they are sharing the same data**. For example, with the same matrix ```m``` from above, let's make a new variable ```m_t``` that stores ```m```'s transpose. Then look what happens if we modify a value in ```m_t```:"
      ]
    },
    {
      "cell_type": "code",
      "metadata": {
        "id": "dJu4zARdbz7a",
        "colab_type": "code",
        "colab": {}
      },
      "source": [
        "m_t = m.T\n",
        "m_t[3][1] = 200\n",
        "print(\"m_t = \\n\",m_t, \"\\n\")\n",
        "\n",
        "print(\"m = \\n\",m)"
      ],
      "execution_count": 0,
      "outputs": []
    },
    {
      "cell_type": "markdown",
      "metadata": {
        "id": "4VAtVpTHbz7b",
        "colab_type": "text"
      },
      "source": [
        "Notice how it modified both the transpose and the original matrix, too! That's because they are sharing the same copy of data. So remember to consider the transpose just as a different view of we matrix, rather than a different matrix entirely."
      ]
    },
    {
      "cell_type": "markdown",
      "metadata": {
        "id": "Fn5nLkRWbz7b",
        "colab_type": "text"
      },
      "source": [
        "### A real use case\n",
        "I don't want to get into too many details about neural networks because we haven't covered them yet, but there is one place we will almost certainly end up using a transpose, or at least thinking about it."
      ]
    },
    {
      "cell_type": "markdown",
      "metadata": {
        "id": "ikjysiTLbz7c",
        "colab_type": "text"
      },
      "source": [
        "Let's say we have the following two matrices, called ```inputs``` and ```weights```,"
      ]
    },
    {
      "cell_type": "code",
      "metadata": {
        "id": "ReUyEaXrbz7c",
        "colab_type": "code",
        "colab": {}
      },
      "source": [
        "inputs = np.array([[-0.27,  0.45,  0.64, 0.31]])\n",
        "print(\"inputs = \\n\",inputs)\n",
        "\n",
        "print(\"inputs.shape: \",inputs.shape, \"\\n\")\n",
        "\n",
        "weights = np.array([[0.02, 0.001, -0.03, 0.036], \\\n",
        "    [0.04, -0.003, 0.025, 0.009], [0.012, -0.045, 0.28, -0.067]])\n",
        "\n",
        "print(\"weights = \\n\",weights)\n",
        "\n",
        "print(\"weights.shape: \",weights.shape, \"\\n\")"
      ],
      "execution_count": 0,
      "outputs": []
    },
    {
      "cell_type": "markdown",
      "metadata": {
        "id": "BuIfTBxObz7d",
        "colab_type": "text"
      },
      "source": [
        "If we try it like they are now, we get an error:"
      ]
    },
    {
      "cell_type": "code",
      "metadata": {
        "id": "dhsOA4ELbz7e",
        "colab_type": "code",
        "colab": {}
      },
      "source": [
        "print(np.matmul(inputs, weights))"
      ],
      "execution_count": 0,
      "outputs": []
    },
    {
      "cell_type": "markdown",
      "metadata": {
        "id": "gnJrtU4Ibz7f",
        "colab_type": "text"
      },
      "source": [
        "This error of incompatible shapes is because the number of columns in the left matrix, ```4```, is not equal the number of rows in the right matrix, ```3```. <br>\n",
        "So that doesn't work, but notice if we take the transpose of the ```weights``` matrix, it will:"
      ]
    },
    {
      "cell_type": "code",
      "metadata": {
        "id": "UCUKUOpbbz7f",
        "colab_type": "code",
        "colab": {}
      },
      "source": [
        "print(\"np.matmul(inputs, weights.T) = \\n\",np.matmul(inputs, weights.T))"
      ],
      "execution_count": 0,
      "outputs": []
    },
    {
      "cell_type": "markdown",
      "metadata": {
        "id": "83xpfpRRbz7i",
        "colab_type": "text"
      },
      "source": [
        "It also works if we take the transpose of inputs instead and swap their order"
      ]
    },
    {
      "cell_type": "code",
      "metadata": {
        "id": "ZkVRMw9hbz7i",
        "colab_type": "code",
        "colab": {}
      },
      "source": [
        "print(np.matmul(weights, inputs.T))"
      ],
      "execution_count": 0,
      "outputs": []
    },
    {
      "cell_type": "markdown",
      "metadata": {
        "id": "cHu0gsi8bz7k",
        "colab_type": "text"
      },
      "source": [
        "The two answers are transposes of each other, so which multiplication we use really just depends on the shape we want for the output."
      ]
    },
    {
      "cell_type": "markdown",
      "metadata": {
        "id": "fontKeoSbz7l",
        "colab_type": "text"
      },
      "source": [
        "## Sorting, Subsetting, Slicing, Splitting and Indexing"
      ]
    },
    {
      "cell_type": "markdown",
      "metadata": {
        "id": "nelIQfInbz7l",
        "colab_type": "text"
      },
      "source": [
        "Data handling is one of the most important skills to have as a data scientist. NumPy provides a suite of data handling functions. We are going to look at a few of them here."
      ]
    },
    {
      "cell_type": "markdown",
      "metadata": {
        "id": "9iL1mcJabz7l",
        "colab_type": "text"
      },
      "source": [
        "### Sorting"
      ]
    },
    {
      "cell_type": "markdown",
      "metadata": {
        "id": "fUVoWJADbz7m",
        "colab_type": "text"
      },
      "source": [
        "To sort any NumPy array we use the ```np.sort``` function:"
      ]
    },
    {
      "cell_type": "code",
      "metadata": {
        "scrolled": true,
        "id": "S_q6Myqmbz7n",
        "colab_type": "code",
        "colab": {}
      },
      "source": [
        "a = np.array([[7,32,1],[55,0,-6],[3,99,20]])\n",
        "print(a, \"\\n\")\n",
        "print(np.sort(a),\"\\n\")\n",
        "print(np.sort(a, axis =1))"
      ],
      "execution_count": 0,
      "outputs": []
    },
    {
      "cell_type": "markdown",
      "metadata": {
        "id": "Q1NlPHUobz7p",
        "colab_type": "text"
      },
      "source": [
        "By default, the elements are sorted in ascending order with respect to the last dimension, which in this case is the column dimension. We can also sort the elements with respect to the rows."
      ]
    },
    {
      "cell_type": "code",
      "metadata": {
        "id": "6OZ240wsbz7p",
        "colab_type": "code",
        "colab": {}
      },
      "source": [
        "print(a, \"\\n\")\n",
        "print(np.sort(a, axis = 0))"
      ],
      "execution_count": 0,
      "outputs": []
    },
    {
      "cell_type": "markdown",
      "metadata": {
        "id": "BZgolYgmbz7r",
        "colab_type": "text"
      },
      "source": [
        "We can also sort all the elements in a 1 dimensional array by setting ```axis``` to ```None```"
      ]
    },
    {
      "cell_type": "code",
      "metadata": {
        "id": "-_DbxaFObz7r",
        "colab_type": "code",
        "colab": {}
      },
      "source": [
        "print(np.sort(a, axis=None))"
      ],
      "execution_count": 0,
      "outputs": []
    },
    {
      "cell_type": "markdown",
      "metadata": {
        "id": "WD7VxXIabz7s",
        "colab_type": "text"
      },
      "source": [
        "### Subsetting"
      ]
    },
    {
      "cell_type": "markdown",
      "metadata": {
        "id": "iGu7DU-mbz7t",
        "colab_type": "text"
      },
      "source": [
        "Just like sets in mathematics, ```ndarray```'s also have subsets. We will look at some possible subsets of a 2D array (matrix)"
      ]
    },
    {
      "cell_type": "code",
      "metadata": {
        "id": "AtwSvG4Sbz7t",
        "colab_type": "code",
        "colab": {}
      },
      "source": [
        "a = np.array([[1,2,3,4],[5,6,7,8],[9,10,11,12]])\n",
        "print(a[1][3])\n",
        "print(a[1,3])\n",
        "print(a[0])\n",
        "print(a[:,2])"
      ],
      "execution_count": 0,
      "outputs": []
    },
    {
      "cell_type": "markdown",
      "metadata": {
        "id": "jZB8CLYabz7v",
        "colab_type": "text"
      },
      "source": [
        "Here, ```a[1][3]``` and ```a[1,3]``` both give the same output: The 4th element of the 2nd row; ```a[0]``` gives the entire 1st row where as ```a[:,2]``` gives all the row elements associated with the 3rd column. <br>\n",
        "It should be noted that all of these are considered as subsets of the array ```a```."
      ]
    },
    {
      "cell_type": "markdown",
      "metadata": {
        "id": "VEqGmUmsbz7w",
        "colab_type": "text"
      },
      "source": [
        "### Slicing"
      ]
    },
    {
      "cell_type": "markdown",
      "metadata": {
        "id": "55vpuhT6bz7w",
        "colab_type": "text"
      },
      "source": [
        "Similar to subsetting, slicing allows us to extract certain portions of an array. For example"
      ]
    },
    {
      "cell_type": "code",
      "metadata": {
        "id": "wJRTyGo_bz7x",
        "colab_type": "code",
        "colab": {}
      },
      "source": [
        "a = np.arange(10) # a 1D array from 0 to 9\n",
        "print(a)\n",
        "s = slice(2,9,2)\n",
        "print(a[s])"
      ],
      "execution_count": 0,
      "outputs": []
    },
    {
      "cell_type": "markdown",
      "metadata": {
        "id": "PPs4iIYNbz7y",
        "colab_type": "text"
      },
      "source": [
        "Here, the tuple (2,9,2) means that ```s``` should start with the value ```2```, end at value ```9``` and take steps of ```2``` to get to ```9```. Or we could simply write"
      ]
    },
    {
      "cell_type": "code",
      "metadata": {
        "id": "yQX6MuXnbz7z",
        "colab_type": "code",
        "colab": {}
      },
      "source": [
        "s = a[2:9:2]\n",
        "print(s)"
      ],
      "execution_count": 0,
      "outputs": []
    },
    {
      "cell_type": "markdown",
      "metadata": {
        "id": "g8Yksf92bz70",
        "colab_type": "text"
      },
      "source": [
        "In both of these examples, we have picked a certain slice of the original array ```a```."
      ]
    },
    {
      "cell_type": "markdown",
      "metadata": {
        "id": "WXlaApQLbz71",
        "colab_type": "text"
      },
      "source": [
        "We can also something like this"
      ]
    },
    {
      "cell_type": "code",
      "metadata": {
        "id": "C5aDA-ubbz71",
        "colab_type": "code",
        "colab": {}
      },
      "source": [
        "print(a[::-1])"
      ],
      "execution_count": 0,
      "outputs": []
    },
    {
      "cell_type": "markdown",
      "metadata": {
        "id": "leOiLcXObz74",
        "colab_type": "text"
      },
      "source": [
        "Here ```-1``` indicates the reverse order."
      ]
    },
    {
      "cell_type": "markdown",
      "metadata": {
        "id": "jqZFV2l_bz75",
        "colab_type": "text"
      },
      "source": [
        "### Indexing"
      ]
    },
    {
      "cell_type": "markdown",
      "metadata": {
        "id": "VzH5AFYPbz75",
        "colab_type": "text"
      },
      "source": [
        "Although we have already seen indexing at work, there are a few things worth mentioning to develop a better intuition about how NumPy arrays, and to the extent, how tensors in TensorFlow can be handled."
      ]
    },
    {
      "cell_type": "code",
      "metadata": {
        "id": "hqH0yNt5bz76",
        "colab_type": "code",
        "colab": {}
      },
      "source": [
        "print(a[a>5])"
      ],
      "execution_count": 0,
      "outputs": []
    },
    {
      "cell_type": "markdown",
      "metadata": {
        "id": "HXyzNx1Mbz78",
        "colab_type": "text"
      },
      "source": [
        "In the above example, known as boolean indexing, we put a condition on ```a```'s elements of being greater than 5. This kind of conditional filtering also proves helpful sometimes."
      ]
    }
  ]
}